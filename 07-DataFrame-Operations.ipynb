{
 "cells": [
  {
   "cell_type": "code",
   "execution_count": 1,
   "id": "7d88a71a-eb9e-4526-9d92-177575380e27",
   "metadata": {},
   "outputs": [],
   "source": [
    "# Set the Pyspark enviroment variables\n",
    "import os\n",
    "os.environ['SPARK_HOME'] = \"/Users/patricia/Apps/Spark\"\n",
    "os.environ['PYSPARK_DRIVER_PYTHON'] = 'jupyter' # only if you use jupyter notebook\n",
    "os.environ['PYSPARK_DRIVER_PYTHON_OPTS'] = 'notebook' # only if you use jupyter notebook\n",
    "os.environ['PYSPARK_PYTHON'] = 'python'"
   ]
  },
  {
   "cell_type": "code",
   "execution_count": 2,
   "id": "c853cae4-7cf4-4b53-b3ce-d50f36d67745",
   "metadata": {},
   "outputs": [
    {
     "name": "stderr",
     "output_type": "stream",
     "text": [
      "Setting default log level to \"WARN\".\n",
      "To adjust logging level use sc.setLogLevel(newLevel). For SparkR, use setLogLevel(newLevel).\n",
      "24/11/07 11:28:12 WARN NativeCodeLoader: Unable to load native-hadoop library for your platform... using builtin-java classes where applicable\n",
      "24/11/07 11:28:13 WARN Utils: Service 'SparkUI' could not bind on port 4040. Attempting port 4041.\n"
     ]
    }
   ],
   "source": [
    "from pyspark.sql import SparkSession\n",
    "\n",
    "# Create a SparkSession\n",
    "spark = SparkSession.builder.appName(\"DataFrame-Operations\").getOrCreate()"
   ]
  },
  {
   "cell_type": "code",
   "execution_count": 3,
   "id": "d581a24f-641f-4607-bf82-b8c3875d082f",
   "metadata": {},
   "outputs": [
    {
     "data": {
      "text/html": [
       "\n",
       "            <div>\n",
       "                <p><b>SparkSession - in-memory</b></p>\n",
       "                \n",
       "        <div>\n",
       "            <p><b>SparkContext</b></p>\n",
       "\n",
       "            <p><a href=\"http://macbook-air.station:4041\">Spark UI</a></p>\n",
       "\n",
       "            <dl>\n",
       "              <dt>Version</dt>\n",
       "                <dd><code>v3.5.3</code></dd>\n",
       "              <dt>Master</dt>\n",
       "                <dd><code>local[*]</code></dd>\n",
       "              <dt>AppName</dt>\n",
       "                <dd><code>DataFrame-Operations</code></dd>\n",
       "            </dl>\n",
       "        </div>\n",
       "        \n",
       "            </div>\n",
       "        "
      ],
      "text/plain": [
       "<pyspark.sql.session.SparkSession at 0x105a010a0>"
      ]
     },
     "execution_count": 3,
     "metadata": {},
     "output_type": "execute_result"
    },
    {
     "name": "stderr",
     "output_type": "stream",
     "text": [
      "24/11/07 11:28:24 WARN GarbageCollectionMetrics: To enable non-built-in garbage collector(s) List(G1 Concurrent GC), users should configure it(them) to spark.eventLog.gcMetrics.youngGenerationGarbageCollectors or spark.eventLog.gcMetrics.oldGenerationGarbageCollectors\n"
     ]
    }
   ],
   "source": [
    "spark"
   ]
  },
  {
   "cell_type": "code",
   "execution_count": 4,
   "id": "f9600cd8-398b-42b0-921a-c5353efc62c0",
   "metadata": {},
   "outputs": [],
   "source": [
    "# Load tye synthetic data into a DataFrame\n",
    "data_file_path = \"./data/stocks.txt\"\n",
    "df = spark.read.csv(data_file_path, header=True, inferSchema=True)"
   ]
  },
  {
   "cell_type": "code",
   "execution_count": 5,
   "id": "75e749f5-a0e7-4693-9f43-7d5d899c5de7",
   "metadata": {},
   "outputs": [
    {
     "name": "stdout",
     "output_type": "stream",
     "text": [
      "root\n",
      " |-- id: integer (nullable = true)\n",
      " |-- name: string (nullable = true)\n",
      " |-- category: string (nullable = true)\n",
      " |-- quantity: integer (nullable = true)\n",
      " |-- price: double (nullable = true)\n",
      "\n",
      "+---+----------+-----------+--------+-------+\n",
      "| id|      name|   category|quantity|  price|\n",
      "+---+----------+-----------+--------+-------+\n",
      "|  1|    iPhone|Electronics|      10| 899.99|\n",
      "|  2|   Macbook|Electronics|       5|1299.99|\n",
      "|  3|      iPad|Electronics|      15| 499.99|\n",
      "|  4|Samsung TV|Electronics|       8| 799.99|\n",
      "|  5|     LG TV|Electronics|      10| 699.99|\n",
      "+---+----------+-----------+--------+-------+\n",
      "only showing top 5 rows\n",
      "\n"
     ]
    }
   ],
   "source": [
    "# Display schema of DataFrame\n",
    "df.printSchema()\n",
    "\n",
    "# Dsplay content of DataFrame\n",
    "df.show(5)"
   ]
  },
  {
   "cell_type": "markdown",
   "id": "0d334b25-b7e0-49d4-904c-04c824548d0b",
   "metadata": {},
   "source": [
    "### Select: Choose specific columns."
   ]
  },
  {
   "cell_type": "code",
   "execution_count": 6,
   "id": "ec3a7716-220a-4358-83bc-f201d021c6e9",
   "metadata": {},
   "outputs": [
    {
     "name": "stdout",
     "output_type": "stream",
     "text": [
      "+---+----------+-------+\n",
      "| id|      name|  price|\n",
      "+---+----------+-------+\n",
      "|  1|    iPhone| 899.99|\n",
      "|  2|   Macbook|1299.99|\n",
      "|  3|      iPad| 499.99|\n",
      "|  4|Samsung TV| 799.99|\n",
      "|  5|     LG TV| 699.99|\n",
      "+---+----------+-------+\n",
      "only showing top 5 rows\n",
      "\n"
     ]
    }
   ],
   "source": [
    "# Select specific columns\n",
    "selected_columns = df.select(\"id\",\"name\",\"price\")\n",
    "selected_columns.show(5)"
   ]
  },
  {
   "cell_type": "markdown",
   "id": "e235701e-85d0-4d03-a8ea-7fba5f3f7016",
   "metadata": {},
   "source": [
    "### Filter: Apply conditions to filter rows."
   ]
  },
  {
   "cell_type": "code",
   "execution_count": 9,
   "id": "0199817f-b7b7-4b52-a605-93bc843d0b1e",
   "metadata": {},
   "outputs": [
    {
     "name": "stdout",
     "output_type": "stream",
     "text": [
      "Filtered data:  12\n",
      "+---+--------------+-----------+--------+-----+\n",
      "| id|          name|   category|quantity|price|\n",
      "+---+--------------+-----------+--------+-----+\n",
      "|  6|    Nike Shoes|   Clothing|      30|99.99|\n",
      "|  7|  Adidas Shoes|   Clothing|      25|89.99|\n",
      "| 12|        Apples|       Food|     100|  0.5|\n",
      "| 13|       Bananas|       Food|     150| 0.25|\n",
      "| 14|       Oranges|       Food|     120| 0.75|\n",
      "| 15|Chicken Breast|       Food|      50| 3.99|\n",
      "| 16| Salmon Fillet|       Food|      30| 5.99|\n",
      "| 24|    Laptop Bag|Accessories|      25|29.99|\n",
      "| 25|      Backpack|Accessories|      30|24.99|\n",
      "| 28|         Jeans|   Clothing|      30|59.99|\n",
      "| 29|       T-shirt|   Clothing|      50|14.99|\n",
      "| 30|      Sneakers|   Clothing|      40|79.99|\n",
      "+---+--------------+-----------+--------+-----+\n",
      "\n"
     ]
    }
   ],
   "source": [
    "# Filter rows based on a condition\n",
    "filtered_data = df.filter(df.quantity > 20)\n",
    "print(\"Filtered data: \", filtered_data.count())\n",
    "filtered_data.show()"
   ]
  },
  {
   "cell_type": "markdown",
   "id": "70eeec81-abde-403b-9600-07fc1ca2a474",
   "metadata": {},
   "source": [
    "### GroupBy: Group data based on specific columns"
   ]
  },
  {
   "cell_type": "markdown",
   "id": "6b6651df-ede8-4177-8661-8669eac53b07",
   "metadata": {},
   "source": [
    "### Aggregations: Perform functions like sum, average, etc, on grouped data."
   ]
  },
  {
   "cell_type": "code",
   "execution_count": 11,
   "id": "db6a86cb-c36d-49e1-ad57-b3812fe58bf8",
   "metadata": {},
   "outputs": [
    {
     "name": "stdout",
     "output_type": "stream",
     "text": [
      "+-----------+-------------+------------------+\n",
      "|   category|sum(quantity)|        avg(price)|\n",
      "+-----------+-------------+------------------+\n",
      "|       Food|          450|2.2960000000000003|\n",
      "|     Sports|           35|             34.99|\n",
      "|Electronics|           98| 586.6566666666665|\n",
      "|   Clothing|          200|  99.2757142857143|\n",
      "|  Furniture|           41|            141.99|\n",
      "|Accessories|           55|             27.49|\n",
      "+-----------+-------------+------------------+\n",
      "\n"
     ]
    }
   ],
   "source": [
    "# GroupBy and Aggregations\n",
    "grouped_data = df.groupBy(\"category\").agg({\"quantity\":\"sum\", \"price\":\"avg\"})\n",
    "grouped_data.show()\n"
   ]
  },
  {
   "cell_type": "markdown",
   "id": "cf290303-6db1-4fb7-ae83-cf63cf92e090",
   "metadata": {},
   "source": [
    "### Join: Combine multiple DataFrames based on specified columns."
   ]
  },
  {
   "cell_type": "code",
   "execution_count": 12,
   "id": "bbb042d8-4a59-4138-9343-cbc55bd78639",
   "metadata": {},
   "outputs": [
    {
     "name": "stdout",
     "output_type": "stream",
     "text": [
      "+---+----------------+-----------+--------+-------+-----------+\n",
      "| id|            name|   category|quantity|  price|   category|\n",
      "+---+----------------+-----------+--------+-------+-----------+\n",
      "|  1|          iPhone|Electronics|      10| 899.99|Electronics|\n",
      "|  2|         Macbook|Electronics|       5|1299.99|Electronics|\n",
      "|  3|            iPad|Electronics|      15| 499.99|Electronics|\n",
      "|  4|      Samsung TV|Electronics|       8| 799.99|Electronics|\n",
      "|  5|           LG TV|Electronics|      10| 699.99|Electronics|\n",
      "|  6|      Nike Shoes|   Clothing|      30|  99.99|   Clothing|\n",
      "|  7|    Adidas Shoes|   Clothing|      25|  89.99|   Clothing|\n",
      "|  8| Sony Headphones|Electronics|      12| 149.99|Electronics|\n",
      "|  9|Beats Headphones|Electronics|      20| 199.99|Electronics|\n",
      "| 10|    Dining Table|  Furniture|      10| 249.99|  Furniture|\n",
      "+---+----------------+-----------+--------+-------+-----------+\n",
      "\n"
     ]
    }
   ],
   "source": [
    "# Join with another DataFrame\n",
    "df2 = df.select(\"id\",\"category\").limit(10)\n",
    "joined_data = df.join(df2, \"id\",\"inner\")\n",
    "joined_data.show()"
   ]
  },
  {
   "cell_type": "markdown",
   "id": "146dbfc6-2af2-4055-8ab3-6c4982fbe74f",
   "metadata": {},
   "source": [
    "### Sort: Arrange rows based on one or more columns."
   ]
  },
  {
   "cell_type": "code",
   "execution_count": 13,
   "id": "f9fa90c8-6856-454f-88f0-03906a823c3a",
   "metadata": {},
   "outputs": [
    {
     "name": "stdout",
     "output_type": "stream",
     "text": [
      "+---+---------------+-----------+--------+------+\n",
      "| id|           name|   category|quantity| price|\n",
      "+---+---------------+-----------+--------+------+\n",
      "| 13|        Bananas|       Food|     150|  0.25|\n",
      "| 12|         Apples|       Food|     100|   0.5|\n",
      "| 14|        Oranges|       Food|     120|  0.75|\n",
      "| 15| Chicken Breast|       Food|      50|  3.99|\n",
      "| 16|  Salmon Fillet|       Food|      30|  5.99|\n",
      "| 29|        T-shirt|   Clothing|      50| 14.99|\n",
      "| 19|       Yoga Mat|     Sports|      20| 19.99|\n",
      "| 25|       Backpack|Accessories|      30| 24.99|\n",
      "| 24|     Laptop Bag|Accessories|      25| 29.99|\n",
      "| 20|   Dumbbell Set|     Sports|      15| 49.99|\n",
      "| 28|          Jeans|   Clothing|      30| 59.99|\n",
      "| 22|   Office Chair|  Furniture|       8| 79.99|\n",
      "| 30|       Sneakers|   Clothing|      40| 79.99|\n",
      "|  7|   Adidas Shoes|   Clothing|      25| 89.99|\n",
      "|  6|     Nike Shoes|   Clothing|      30| 99.99|\n",
      "| 23|      Bookshelf|  Furniture|      10| 99.99|\n",
      "| 21|   Coffee Table|  Furniture|       5|129.99|\n",
      "| 27|        Printer|Electronics|       8|129.99|\n",
      "|  8|Sony Headphones|Electronics|      12|149.99|\n",
      "| 11|     Study Desk|  Furniture|       8|149.99|\n",
      "+---+---------------+-----------+--------+------+\n",
      "only showing top 20 rows\n",
      "\n"
     ]
    }
   ],
   "source": [
    "# Sort by a column\n",
    "sorted_data = df.orderBy(\"price\")\n",
    "sorted_data.show()"
   ]
  },
  {
   "cell_type": "code",
   "execution_count": 14,
   "id": "d0a548c5-7cac-48d2-b203-daa269a0417c",
   "metadata": {},
   "outputs": [
    {
     "name": "stdout",
     "output_type": "stream",
     "text": [
      "+---+----------------+-----------+--------+-------+\n",
      "| id|            name|   category|quantity|  price|\n",
      "+---+----------------+-----------+--------+-------+\n",
      "|  2|         Macbook|Electronics|       5|1299.99|\n",
      "|  1|          iPhone|Electronics|      10| 899.99|\n",
      "|  4|      Samsung TV|Electronics|       8| 799.99|\n",
      "|  5|           LG TV|Electronics|      10| 699.99|\n",
      "| 26|          Camera|Electronics|      10| 599.99|\n",
      "|  3|            iPad|Electronics|      15| 499.99|\n",
      "| 10|    Dining Table|  Furniture|      10| 249.99|\n",
      "| 17|  Leather Jacket|   Clothing|      15| 199.99|\n",
      "|  9|Beats Headphones|Electronics|      20| 199.99|\n",
      "| 18|     Winter Coat|   Clothing|      10| 149.99|\n",
      "| 11|      Study Desk|  Furniture|       8| 149.99|\n",
      "|  8| Sony Headphones|Electronics|      12| 149.99|\n",
      "| 27|         Printer|Electronics|       8| 129.99|\n",
      "| 21|    Coffee Table|  Furniture|       5| 129.99|\n",
      "| 23|       Bookshelf|  Furniture|      10|  99.99|\n",
      "|  6|      Nike Shoes|   Clothing|      30|  99.99|\n",
      "|  7|    Adidas Shoes|   Clothing|      25|  89.99|\n",
      "| 30|        Sneakers|   Clothing|      40|  79.99|\n",
      "| 22|    Office Chair|  Furniture|       8|  79.99|\n",
      "| 28|           Jeans|   Clothing|      30|  59.99|\n",
      "+---+----------------+-----------+--------+-------+\n",
      "only showing top 20 rows\n",
      "\n"
     ]
    }
   ],
   "source": [
    "# Sort by a column desc\n",
    "from pyspark.sql.functions import col,desc\n",
    "sorted_data = df.orderBy(col(\"price\").desc(),col(\"id\").desc())\n",
    "sorted_data.show()"
   ]
  },
  {
   "cell_type": "markdown",
   "id": "3309f478-baff-4b5b-9b6e-1cac6d02f6f4",
   "metadata": {},
   "source": [
    "### Distinct: Get unique rows"
   ]
  },
  {
   "cell_type": "code",
   "execution_count": 16,
   "id": "7940fb4f-66cf-43ea-b570-34b662976c4e",
   "metadata": {},
   "outputs": [
    {
     "name": "stdout",
     "output_type": "stream",
     "text": [
      "+-----------+\n",
      "|   category|\n",
      "+-----------+\n",
      "|       Food|\n",
      "|     Sports|\n",
      "|Electronics|\n",
      "|   Clothing|\n",
      "|  Furniture|\n",
      "|Accessories|\n",
      "+-----------+\n",
      "\n"
     ]
    }
   ],
   "source": [
    "# Get distinct product category\n",
    "distinct_rows = df.select(\"category\").distinct()\n",
    "distinct_rows.show()"
   ]
  },
  {
   "cell_type": "markdown",
   "id": "4e3dce8d-0690-4d8e-844b-e8908d759d10",
   "metadata": {},
   "source": [
    "### Drop: Remove specified columns."
   ]
  },
  {
   "cell_type": "code",
   "execution_count": 19,
   "id": "dce45a50-31f6-4ed8-9695-79178d478b51",
   "metadata": {},
   "outputs": [
    {
     "name": "stdout",
     "output_type": "stream",
     "text": [
      "+---+----------+-------+\n",
      "| id|      name|  price|\n",
      "+---+----------+-------+\n",
      "|  1|    iPhone| 899.99|\n",
      "|  2|   Macbook|1299.99|\n",
      "|  3|      iPad| 499.99|\n",
      "|  4|Samsung TV| 799.99|\n",
      "|  5|     LG TV| 699.99|\n",
      "+---+----------+-------+\n",
      "only showing top 5 rows\n",
      "\n"
     ]
    }
   ],
   "source": [
    "dropped_columns = df.drop(\"quantity\",\"category\")\n",
    "dropped_columns.show(5)"
   ]
  },
  {
   "cell_type": "markdown",
   "id": "9f08a020-45fe-457e-9f50-c295aa9a8c36",
   "metadata": {},
   "source": [
    "### WithColumn: Add new calculated columns."
   ]
  },
  {
   "cell_type": "code",
   "execution_count": 20,
   "id": "a073ac1f-44ef-4993-ad83-9242a216589e",
   "metadata": {},
   "outputs": [
    {
     "name": "stdout",
     "output_type": "stream",
     "text": [
      "+---+----------------+-----------+--------+-------+------------------+\n",
      "| id|            name|   category|quantity|  price|           revenue|\n",
      "+---+----------------+-----------+--------+-------+------------------+\n",
      "|  1|          iPhone|Electronics|      10| 899.99|            8999.9|\n",
      "|  2|         Macbook|Electronics|       5|1299.99|           6499.95|\n",
      "|  3|            iPad|Electronics|      15| 499.99|           7499.85|\n",
      "|  4|      Samsung TV|Electronics|       8| 799.99|           6399.92|\n",
      "|  5|           LG TV|Electronics|      10| 699.99|            6999.9|\n",
      "|  6|      Nike Shoes|   Clothing|      30|  99.99|            2999.7|\n",
      "|  7|    Adidas Shoes|   Clothing|      25|  89.99|           2249.75|\n",
      "|  8| Sony Headphones|Electronics|      12| 149.99|           1799.88|\n",
      "|  9|Beats Headphones|Electronics|      20| 199.99|            3999.8|\n",
      "| 10|    Dining Table|  Furniture|      10| 249.99|            2499.9|\n",
      "| 11|      Study Desk|  Furniture|       8| 149.99|           1199.92|\n",
      "| 12|          Apples|       Food|     100|    0.5|              50.0|\n",
      "| 13|         Bananas|       Food|     150|   0.25|              37.5|\n",
      "| 14|         Oranges|       Food|     120|   0.75|              90.0|\n",
      "| 15|  Chicken Breast|       Food|      50|   3.99|             199.5|\n",
      "| 16|   Salmon Fillet|       Food|      30|   5.99|179.70000000000002|\n",
      "| 17|  Leather Jacket|   Clothing|      15| 199.99|2999.8500000000004|\n",
      "| 18|     Winter Coat|   Clothing|      10| 149.99|            1499.9|\n",
      "| 19|        Yoga Mat|     Sports|      20|  19.99|399.79999999999995|\n",
      "| 20|    Dumbbell Set|     Sports|      15|  49.99|            749.85|\n",
      "+---+----------------+-----------+--------+-------+------------------+\n",
      "only showing top 20 rows\n",
      "\n"
     ]
    }
   ],
   "source": [
    "# Add a new calculated column\n",
    "df_with_new_column = df.withColumn(\"revenue\",df.quantity * df.price)\n",
    "df_with_new_column.show()"
   ]
  },
  {
   "cell_type": "markdown",
   "id": "4181c126-df60-4040-88a6-d2c9acdbdada",
   "metadata": {},
   "source": [
    "### Alias: Rename columns for better readability."
   ]
  },
  {
   "cell_type": "code",
   "execution_count": 21,
   "id": "f9adfe9b-715b-4906-92aa-f5d1fbfdf99e",
   "metadata": {},
   "outputs": [
    {
     "name": "stdout",
     "output_type": "stream",
     "text": [
      "+---+----------------+-----------+--------+-------------+\n",
      "| id|            name|   category|quantity|product_price|\n",
      "+---+----------------+-----------+--------+-------------+\n",
      "|  1|          iPhone|Electronics|      10|       899.99|\n",
      "|  2|         Macbook|Electronics|       5|      1299.99|\n",
      "|  3|            iPad|Electronics|      15|       499.99|\n",
      "|  4|      Samsung TV|Electronics|       8|       799.99|\n",
      "|  5|           LG TV|Electronics|      10|       699.99|\n",
      "|  6|      Nike Shoes|   Clothing|      30|        99.99|\n",
      "|  7|    Adidas Shoes|   Clothing|      25|        89.99|\n",
      "|  8| Sony Headphones|Electronics|      12|       149.99|\n",
      "|  9|Beats Headphones|Electronics|      20|       199.99|\n",
      "| 10|    Dining Table|  Furniture|      10|       249.99|\n",
      "| 11|      Study Desk|  Furniture|       8|       149.99|\n",
      "| 12|          Apples|       Food|     100|          0.5|\n",
      "| 13|         Bananas|       Food|     150|         0.25|\n",
      "| 14|         Oranges|       Food|     120|         0.75|\n",
      "| 15|  Chicken Breast|       Food|      50|         3.99|\n",
      "| 16|   Salmon Fillet|       Food|      30|         5.99|\n",
      "| 17|  Leather Jacket|   Clothing|      15|       199.99|\n",
      "| 18|     Winter Coat|   Clothing|      10|       149.99|\n",
      "| 19|        Yoga Mat|     Sports|      20|        19.99|\n",
      "| 20|    Dumbbell Set|     Sports|      15|        49.99|\n",
      "+---+----------------+-----------+--------+-------------+\n",
      "only showing top 20 rows\n",
      "\n"
     ]
    }
   ],
   "source": [
    "# Rename columns using alias\n",
    "df_with_alias = df.withColumnRenamed(\"price\",\"product_price\")\n",
    "df_with_alias.show()"
   ]
  },
  {
   "cell_type": "code",
   "execution_count": 22,
   "id": "35760a70-f245-464d-abfd-4a816316fd83",
   "metadata": {},
   "outputs": [],
   "source": [
    "# Stop the SparkSession\n",
    "spark.stop()"
   ]
  }
 ],
 "metadata": {
  "kernelspec": {
   "display_name": "Python 3 (ipykernel)",
   "language": "python",
   "name": "python3"
  },
  "language_info": {
   "codemirror_mode": {
    "name": "ipython",
    "version": 3
   },
   "file_extension": ".py",
   "mimetype": "text/x-python",
   "name": "python",
   "nbconvert_exporter": "python",
   "pygments_lexer": "ipython3",
   "version": "3.12.4"
  }
 },
 "nbformat": 4,
 "nbformat_minor": 5
}
